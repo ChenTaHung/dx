{
 "cells": [
  {
   "cell_type": "code",
   "execution_count": null,
   "id": "moving-messaging",
   "metadata": {},
   "outputs": [],
   "source": [
    "import pandas as pd"
   ]
  },
  {
   "cell_type": "code",
   "execution_count": null,
   "id": "taken-clinic",
   "metadata": {},
   "outputs": [],
   "source": [
    "pd.__version__"
   ]
  },
  {
   "cell_type": "code",
   "execution_count": null,
   "id": "earlier-secret",
   "metadata": {},
   "outputs": [],
   "source": [
    "!pwd"
   ]
  },
  {
   "cell_type": "code",
   "execution_count": null,
   "id": "black-universe",
   "metadata": {},
   "outputs": [],
   "source": [
    "%pip install vdom"
   ]
  },
  {
   "cell_type": "code",
   "execution_count": null,
   "id": "polar-cooperative",
   "metadata": {},
   "outputs": [],
   "source": [
    "from vdom import pre\n",
    "\n",
    "pd.options.display.html.table_schema = True # Data Explorer On!\n",
    "pd.options.display.max_rows = None # Send all the data! (careful!)"
   ]
  },
  {
   "cell_type": "code",
   "execution_count": null,
   "id": "sealed-brighton",
   "metadata": {},
   "outputs": [],
   "source": [
    "df = pd.read_csv(\n",
    "  \"https://gist.githubusercontent.com/rgbkrk/a7984a8788a73e2afb8fd4b89c8ec6de/raw/db8d1db9f878ed448c3cac3eb3c9c0dc5e80891e/2015.csv\"\n",
    ")"
   ]
  },
  {
   "cell_type": "code",
   "execution_count": null,
   "id": "negative-amsterdam",
   "metadata": {},
   "outputs": [],
   "source": [
    "display(pre(\"Note: This data is sampled\"))\n",
    "df"
   ]
  },
  {
   "cell_type": "code",
   "execution_count": null,
   "id": "governmental-tunisia",
   "metadata": {},
   "outputs": [],
   "source": []
  }
 ],
 "metadata": {
  "kernelspec": {
   "display_name": "Python 3",
   "language": "python",
   "name": "python3"
  },
  "language_info": {
   "codemirror_mode": {
    "name": "ipython",
    "version": 3
   },
   "file_extension": ".py",
   "mimetype": "text/x-python",
   "name": "python",
   "nbconvert_exporter": "python",
   "pygments_lexer": "ipython3",
   "version": "3.9.5"
  }
 },
 "nbformat": 4,
 "nbformat_minor": 5
}
